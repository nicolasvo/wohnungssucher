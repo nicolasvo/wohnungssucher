{
 "cells": [
  {
   "cell_type": "code",
   "execution_count": null,
   "metadata": {},
   "outputs": [],
   "source": [
    "import requests\n",
    "from lxml import html\n",
    "import json"
   ]
  },
  {
   "cell_type": "code",
   "execution_count": null,
   "metadata": {},
   "outputs": [],
   "source": [
    "url = \"https://www.immobilienscout24.de/Suche/S-2/Wohnung-Miete/Baden-Wuerttemberg/Karlsruhe/-/-/25,00-/EURO--800,00\""
   ]
  },
  {
   "cell_type": "code",
   "execution_count": null,
   "metadata": {},
   "outputs": [],
   "source": [
    "def fetch_apartment(url):\n",
    "    response = requests.get(url)\n",
    "    tree = html.fromstring(response.content)\n",
    "    xpath_from_date = '//dd[@class=\"is24qa-bezugsfrei-ab grid-item three-fifths\"]/text()'\n",
    "    xpath_charges = '//dd[@class=\"is24qa-nebenkosten grid-item three-fifths\"]/text()'\n",
    "    xpath_price_total = '//dd[@class=\"is24qa-gesamtmiete grid-item three-fifths font-bold\"]/text()'\n",
    "    return {\n",
    "        \"from_date\": tree.xpath(xpath_from_date)[0].strip() if len(tree.xpath(xpath_from_date)) else 'N/A', \n",
    "        \"charges\": tree.xpath(xpath_charges)[1].strip() if len(tree.xpath(xpath_charges)) else 'N/A',\n",
    "        \"price_total\": tree.xpath(xpath_price_total)[0].strip() if len(tree.xpath(xpath_price_total)) else 'N/A',\n",
    "    }\n",
    "        \n",
    "\n",
    "def fetch_list(url):\n",
    "    response = requests.get(url)\n",
    "    tree = html.fromstring(response.content)\n",
    "    latest = tree.xpath('//div[@class=\"result-list-entry__data\"]')\n",
    "    result = []\n",
    "    ids = []\n",
    "    for apartment in latest:\n",
    "        id = apartment.xpath('./a[@class=\"result-list-entry__brand-title-container\"]')[0].get('data-go-to-expose-id')\n",
    "        price, area, rooms = [_.xpath('./dd//text()')[0] for _ in apartment.xpath('.//dl')]\n",
    "        url_apartment = f'https://www.immobilienscout24.de/expose/{id}'\n",
    "        \n",
    "        dict_ = {\n",
    "            \"id\": id,\n",
    "            \"title\": apartment.xpath('./a[@class=\"result-list-entry__brand-title-container\"]/h5/text()')[0],\n",
    "            \"url\": url_apartment,\n",
    "            \"address\": apartment.xpath('.//button/div/text()')[0],\n",
    "            \"price\": price, \n",
    "            \"area\": area,\n",
    "            \"rooms\": rooms,\n",
    "        }\n",
    "    \n",
    "        dict_.update(fetch_apartment(url_apartment))\n",
    "            \n",
    "        result.append(dict_)\n",
    "        ids.append(id)\n",
    "    \n",
    "    return {\n",
    "        \"results\": result,\n",
    "        \"ids\": ids,\n",
    "    }"
   ]
  },
  {
   "cell_type": "markdown",
   "metadata": {},
   "source": [
    "### Output"
   ]
  },
  {
   "cell_type": "code",
   "execution_count": null,
   "metadata": {},
   "outputs": [],
   "source": [
    "fetch_list(url)"
   ]
  },
  {
   "cell_type": "code",
   "execution_count": null,
   "metadata": {},
   "outputs": [],
   "source": [
    "res = fetch_list(url)"
   ]
  },
  {
   "cell_type": "code",
   "execution_count": null,
   "metadata": {},
   "outputs": [],
   "source": [
    "res['ids']"
   ]
  }
 ],
 "metadata": {
  "kernelspec": {
   "display_name": "Python 3",
   "language": "python",
   "name": "python3"
  },
  "language_info": {
   "codemirror_mode": {
    "name": "ipython",
    "version": 3
   },
   "file_extension": ".py",
   "mimetype": "text/x-python",
   "name": "python",
   "nbconvert_exporter": "python",
   "pygments_lexer": "ipython3",
   "version": "3.7.3"
  }
 },
 "nbformat": 4,
 "nbformat_minor": 4
}
